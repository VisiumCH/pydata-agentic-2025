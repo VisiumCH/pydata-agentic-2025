{
 "cells": [
  {
   "cell_type": "markdown",
   "metadata": {},
   "source": [
    "# Introduction to Multi agent systems"
   ]
  },
  {
   "cell_type": "markdown",
   "metadata": {},
   "source": [
    "Welcome to our workshop! In this session, we'll explore how to build AI-powered applications using **LangChain** and **LangGraph**, a popular framework for developing applications with Large Language Models (LLMs). We'll start with a simple chatbot and then enhance it with a multi-agent framework."
   ]
  },
  {
   "cell_type": "markdown",
   "metadata": {},
   "source": [
    "**DISCLAIMER** Do not use the agents from this workshop for any real financial decisions, this is a fictive scenario with the objective of discovering llm agents."
   ]
  },
  {
   "cell_type": "markdown",
   "metadata": {},
   "source": [
    "## Setting Up Our Environment"
   ]
  },
  {
   "cell_type": "markdown",
   "metadata": {},
   "source": [
    "First, we need to set up our environment. We'll use OpenAI's models, so we need an API key. You can define your `OPENAI_API_KEY` in the `.env` file.\n",
    "\n",
    "The code retrieves the key and sets some global configurations:\n",
    "- `LLM_MODEL`: The specific model we'll use\n",
    "- `LLM_TEMPERATURE`: Controls randomness in responses (0 means very deterministic)"
   ]
  },
  {
   "cell_type": "code",
   "execution_count": null,
   "metadata": {},
   "outputs": [],
   "source": [
    "import os\n",
    "\n",
    "\n",
    "if not os.environ.get(\"OPENAI_API_KEY\"):\n",
    "    raise ValueError(\"Please set OPENAI_API_KEY environment variable\")\n",
    "\n",
    "LLM_MODEL = \"gpt-4o-mini\"\n",
    "LLM_TEMPERATURE = 0.5"
   ]
  },
  {
   "cell_type": "markdown",
   "metadata": {},
   "source": [
    "## Building a Simple ChatBot"
   ]
  },
  {
   "cell_type": "markdown",
   "metadata": {},
   "source": [
    "Let's start with creating a basic chatbot using **LangChain**. We'll use:\n",
    "- `ChatOpenAI`: The interface to OpenAI's chat models\n",
    "- `SystemMessage`: Defines the bot's behavior and role\n",
    "- `HumanMessage`: Represents user input\n",
    "\n",
    "Our chatbot will act as a Financial Analyst. We'll create it by:\n",
    "1. Instantiating the model\n",
    "2. Defining a system prompt that sets the bot's role\n",
    "3. Sending a user query and getting a response with `.invoke()`\n",
    "\n",
    "This demonstrates the basic pattern of LLM interactions: prompt → response."
   ]
  },
  {
   "cell_type": "markdown",
   "metadata": {},
   "source": [
    "## Simple Agent with Yahoo Finance News"
   ]
  },
  {
   "cell_type": "markdown",
   "metadata": {},
   "source": [
    "We will now create a financial analyst bot again, but this time with an access to a tool, **Yahoo Finance News**. This tool allows the bot to retrieve the latest news about company stocks and provide more informed advice based on user requests.\n",
    "\n",
    "The `YahooFinanceNewsTool` is part of the LangChain Community's available tool library: [LangChain tools](https://python.langchain.com/docs/integrations/tools/). \n",
    "For this workshop, we’ve made a simple modification to the `YahooFinanceNewsTool` and capable of retrieving a broader range of news articles. You can find the modified code in `src/yfinance_tool.py`\n",
    "\n",
    "The `ChatOpenAI` class model includes a method, `bind_tools`, which simplifies the process of attaching and using tools with your bot."
   ]
  },
  {
   "cell_type": "code",
   "execution_count": null,
   "metadata": {},
   "outputs": [],
   "source": [
    "from src.yfinance_tool import YahooFinanceNewsTool\n",
    "from langchain_core.messages import ToolMessage\n",
    "from IPython.display import Markdown\n",
    "from langchain_core.messages import HumanMessage, SystemMessage\n",
    "from langchain_openai import ChatOpenAI\n",
    "\n",
    "# Create a list of tools and a dictionary of tool functions by name\n",
    "tools = [YahooFinanceNewsTool()]\n",
    "tools_by_name = {tool.name: tool for tool in tools}"
   ]
  },
  {
   "cell_type": "code",
   "execution_count": null,
   "metadata": {},
   "outputs": [],
   "source": [
    "# Create a ChatOpenAI instance with the LLM model and temperature\n",
    "base_model = ChatOpenAI(model=LLM_MODEL, temperature=LLM_TEMPERATURE)"
   ]
  },
  {
   "cell_type": "code",
   "execution_count": null,
   "metadata": {},
   "outputs": [],
   "source": [
    "user_question = \"How does Microsoft feels today comparing with NVIDIA?\"\n",
    "FINANCE_TOOL_PROMPT = \"\"\"\n",
    "You are a Financial Analyst. The client will ask you an investment question. Use the Yahoo Finance tool to look for news regarding specific stocks in the scope of the client's request.\n",
    "\n",
    "Always convert company names to their exact ticker symbols using Yahoo ticker system (e.g., AAPL for Apple Inc., ZURN.SW for Zurich Insurance). Do not input full company names into the Yahoo Finance News tool.\n",
    "\n",
    "Only use valid ticker symbols recognized on major stock exchanges (e.g., NASDAQ, NYSE, etc.). If a company does not have a valid ticker symbol, exclude it from analysis.\n",
    "\n",
    "\n",
    "Based on your news research, identify which stocks are currently worth buying.\n",
    "\n",
    "Finally, provide clear investment advice using the selected stocks. Do not assess risk.\n",
    "\"\"\"\n",
    "\n",
    "task_str = f\"User question: {user_question}\"\n",
    "\n",
    "yahoo_finance_model = base_model.bind_tools(tools)"
   ]
  },
  {
   "cell_type": "code",
   "execution_count": null,
   "metadata": {},
   "outputs": [],
   "source": [
    "# Message list for the financial assistant model\n",
    "messages = [\n",
    "    SystemMessage(FINANCE_TOOL_PROMPT),\n",
    "    HumanMessage(task_str),\n",
    "]\n",
    "\n",
    "# Invoke the financial assistant model with the messages\n",
    "financial_analyst_output = yahoo_finance_model.invoke(messages)\n",
    "\n",
    "# If the financial assistant model made tool calls, invoke the tool\n",
    "if financial_analyst_output.tool_calls:\n",
    "    news_list = []\n",
    "    id_list = []\n",
    "    for tool_call in financial_analyst_output.tool_calls:\n",
    "        tool = tools_by_name[tool_call[\"name\"]]\n",
    "        news = tool.invoke(tool_call[\"args\"])\n",
    "\n",
    "        # display(Markdown(f\"**Yahoo Finance news**: {news}\"))\n",
    "\n",
    "        news_list.append(news)\n",
    "        id_list.append(tool_call[\"id\"])\n",
    "\n",
    "    # Combine the retrieved documents into a single string\n",
    "    news_str = news\n",
    "    # Message list with the retrieved documents for the base model\n",
    "    messages = [\n",
    "        ...,  # the system message\n",
    "        ...,  # your human's message\n",
    "        ...,  # The financial analyst output\n",
    "        ...,  # The Tool Message for each news item and tool_call_id, to be unpacked\n",
    "    ]\n",
    "\n",
    "    # Invoke the base model with the messages\n",
    "    financial_analyst_output_final = yahoo_finance_model.invoke(messages)\n",
    "\n",
    "Markdown(financial_analyst_output_final.content)"
   ]
  },
  {
   "cell_type": "markdown",
   "metadata": {},
   "source": [
    "## Agentic system"
   ]
  },
  {
   "cell_type": "markdown",
   "metadata": {},
   "source": [
    "We will now create a simple agentic system using **LangGraph**, consisting of four specialized agents.\n",
    "This system enables more comprehensive financial analysis by dividing responsibilities among different agents:\n",
    "\n",
    "- **Client Interface Agent (CIA)**: Rephrases the user's prompt to enhance the quality of responses from both the Financial Analyst and the Risk Advisor.\n",
    "\n",
    "- **Financial Analyst Agent (FAA)**: The same financial agent as before, using **Yahoo Finance News**.\n",
    "\n",
    "- **Risk Advisor Agent (RAA)**: Evaluates potential risks and provides cautionary advice regarding investments.\n",
    "\n",
    "- **Sythetizer**: Combines the insights from both the Financial Analyst and the Risk Advisor into a single, coherent summary for the user.\n",
    "\n",
    "To build our workflow with LangGraph, we need to implements functions that receive the current state and return state updates. These functions represent the nodes of the graph. Each node is assigned a label.\n",
    "\n",
    "![Workflow](../imgs/workflow.png)"
   ]
  },
  {
   "cell_type": "code",
   "execution_count": null,
   "metadata": {},
   "outputs": [],
   "source": [
    "from typing import Literal\n",
    "\n",
    "from langchain_core.messages import SystemMessage\n",
    "from langgraph.graph import END\n",
    "from langgraph.types import Command\n",
    "from IPython.display import Markdown\n"
   ]
  },
  {
   "cell_type": "code",
   "execution_count": null,
   "metadata": {},
   "outputs": [],
   "source": [
    "# Create a ChatOpenAI instance with the LLM model and temperature\n",
    "base_model = ChatOpenAI(model=LLM_MODEL, temperature=LLM_TEMPERATURE)"
   ]
  },
  {
   "cell_type": "code",
   "execution_count": null,
   "metadata": {},
   "outputs": [],
   "source": [
    "from src.yfinance_tool import YahooFinanceNewsTool\n",
    "\n",
    "# Create a list of tools and a dictionnary of tool functions by name\n",
    "tools = [...]  # The tool you want to use\n",
    "tools_by_name = {tool.name: tool for tool in tools}"
   ]
  },
  {
   "cell_type": "markdown",
   "metadata": {},
   "source": [
    "## LangGraph Workflow and State"
   ]
  },
  {
   "cell_type": "markdown",
   "metadata": {},
   "source": [
    "**LangGraph** helps us manage communication between our agents efficiently by defining a `State` class that will convey information from a node to the next during execution.\n",
    "\n",
    "We keep our state simple by including only two attributes, but it's possible to include more:\n",
    "- Messages: The ongoing conversation chain\n",
    "- Analyses: Research findings from our agents\n",
    "\n",
    "We use Python's dataclasses with special annotations (`Annotated`) to define how the state attributes should be updated throughout the workflow."
   ]
  },
  {
   "cell_type": "code",
   "execution_count": null,
   "metadata": {},
   "outputs": [],
   "source": [
    "from dataclasses import dataclass, field\n",
    "from typing import Annotated\n",
    "\n",
    "from langchain_core.messages import BaseMessage\n",
    "from langgraph.graph.message import add_messages"
   ]
  },
  {
   "cell_type": "code",
   "execution_count": null,
   "metadata": {},
   "outputs": [],
   "source": [
    "@dataclass(kw_only=True)\n",
    "class State:\n",
    "    \"\"\"Graph state for the financial analysis workflow.\"\"\"\n",
    "\n",
    "    messages: Annotated[list[BaseMessage], add_messages] = field(default_factory=list)\n",
    "    financial_analysis: Annotated[list[BaseMessage], add_messages] = field(\n",
    "        default_factory=list\n",
    "    )\n",
    "    risk_analysis: Annotated[list[BaseMessage], add_messages] = field(\n",
    "        default_factory=list\n",
    "    )"
   ]
  },
  {
   "cell_type": "markdown",
   "metadata": {},
   "source": [
    "## The Agents in Detail"
   ]
  },
  {
   "cell_type": "markdown",
   "metadata": {},
   "source": [
    "### Client Interface Agent (CIA)"
   ]
  },
  {
   "cell_type": "markdown",
   "metadata": {},
   "source": [
    "The CIA serves as the interface between the user's request and the financial analysis workflow\n",
    "- Evaluates client requests\n",
    "- Reformulates the request for the financial analyst and risk advisor node"
   ]
  },
  {
   "cell_type": "code",
   "execution_count": null,
   "metadata": {},
   "outputs": [],
   "source": [
    "CLIENT_INTERFACE_PROMPT = \"\"\"\n",
    "You are a Client Interface Agent. Your role is to take the user's investment-related question\n",
    "and reformulate it into a clear, structured, and precise prompt suitable for a Financial Analyst and Risk Advisor.\n",
    "\n",
    "Do not ask clarifying or follow-up questions. Your output should be a single,\n",
    "well-formed request ready for financial analysis.\n",
    "\"\"\""
   ]
  },
  {
   "cell_type": "markdown",
   "metadata": {},
   "source": [
    "### Defining the Nodes and Flow\n",
    "\n",
    "Let's now define our first graph Node. This section encompasses multiple **LangGraph** concepts at once and is worth spending some time on.\n",
    "\n",
    "1. Defining the node:\n",
    "\n",
    "    - To define our CIA node, we implement a function that receives the graph state and apply operations on it\n",
    "    - In this case, the node calls the CIA model with structured output on the user request.\n",
    "\n",
    "2. Defining the flow:\n",
    "\n",
    "    - Last December, **LangGraph** released `Command`, a novel way of defining the graph edges directly within the nodes.\n",
    "    - `Command` can return both state updates (update) and the next node (goto).\n",
    "    - In the following example, the node updates the state messages with the CIA's response.\n",
    "    - If the user request is out of scope, it terminates the workflow by going to the END node.\n",
    "    - Otherwise, The generated response is passed down to the financial analyst and risk advisor nodes as part of the `state.messages`"
   ]
  },
  {
   "cell_type": "code",
   "execution_count": null,
   "metadata": {},
   "outputs": [],
   "source": [
    "# Define the CIA with the next node options\n",
    "def client_interface_node(\n",
    "    state: State,\n",
    ") -> Command[Literal[\"financial_analyst\", \"risk_analyst\", END]]:\n",
    "    \"\"\"CIA that generates a request for the financial analysis.\"\"\"\n",
    "    display(Markdown(f\"**Client request received**: {state.messages[-1].content}\"))\n",
    "\n",
    "    # Message list for the orchestrator model\n",
    "    messages = [\n",
    "        SystemMessage(CLIENT_INTERFACE_PROMPT),\n",
    "        *state.messages,\n",
    "    ]\n",
    "\n",
    "    # Invoke the CIA model\n",
    "    orchestrator_output = base_model.invoke(messages)\n",
    "\n",
    "    display(\n",
    "        Markdown(f\"**Client Interface Agent Response:** {orchestrator_output.content}\")\n",
    "    )\n",
    "\n",
    "    return Command(\n",
    "        # Update the state messages with the CIA response\n",
    "        update=...,  # Use a dict to update the \"messages\" attribute of the state with the content of the orchestrator's output\n",
    "        # Go to worker nodes if the request is in scope, otherwise end the workflow\n",
    "        goto=[..., ...],  # Which other nodes you need to go to!\n",
    "    )"
   ]
  },
  {
   "cell_type": "markdown",
   "metadata": {},
   "source": [
    "### Financial Analyst Agent (FAA)"
   ]
  },
  {
   "cell_type": "markdown",
   "metadata": {},
   "source": [
    "The FAA will give financial advice and will conduct news research:\n",
    "- Receives a financial investment question from the CIA agent.\n",
    "- Calls the `YahooFinanceNewsTool` to get current news on stocks linked to the client question.\n",
    "- Formulates a clear investment advice based on the stocks with positive news of buying\n",
    "- Sends the financial advice to the synthetizer"
   ]
  },
  {
   "cell_type": "code",
   "execution_count": null,
   "metadata": {},
   "outputs": [],
   "source": [
    "from langchain_core.messages import ToolMessage"
   ]
  },
  {
   "cell_type": "code",
   "execution_count": null,
   "metadata": {},
   "outputs": [],
   "source": [
    "FINANCE_TOOL_PROMPT = \"\"\"\n",
    "You are a Financial Analyst. The client will ask you an investment question. Use the Yahoo Finance tool to look for news regarding specific stocks in the scope of the client's request.\n",
    "\n",
    "Always convert company names to their exact ticker symbols using Yahoo ticker system (e.g., AAPL for Apple Inc., ZURN.SW for Zurich Insurance). Do not input full company names into the Yahoo Finance News tool.\n",
    "\n",
    "Only use valid ticker symbols recognized on major stock exchanges (e.g., NASDAQ, NYSE, etc.). If a company does not have a valid ticker symbol, exclude it from analysis.\n",
    "\n",
    "Discard any stocks with significant negative news.\n",
    "\n",
    "Based on your news research, identify which stocks are currently worth buying.\n",
    "\n",
    "Finally, provide clear investment advice using the selected stocks. Do not assess risk.\n",
    "\"\"\"\n",
    "\n",
    "# Create the financial assistant model from the base model with tool binding\n",
    "fa_model = base_model.bind_tools(tools)"
   ]
  },
  {
   "cell_type": "code",
   "execution_count": null,
   "metadata": {},
   "outputs": [],
   "source": [
    "# Define the financial analyst node and the next node options\n",
    "def financial_analyst_node(state: State) -> Command[Literal[\"synthesizer\"]]:\n",
    "    \"\"\"Given an investment question, get financial advice using Yahoo Finance news.\"\"\"\n",
    "    display(Markdown(\"**Giving financial advice without risk information**\"))\n",
    "    # Message list for the financial assistant model\n",
    "    messages = [\n",
    "        SystemMessage(FINANCE_TOOL_PROMPT),\n",
    "        *state.messages,\n",
    "    ]\n",
    "\n",
    "    # Invoke the financial assistant model with the messages\n",
    "    fa_output = fa_model.invoke(messages)\n",
    "\n",
    "    # If the financial assistant model made tool calls, invoke the tool\n",
    "    if fa_output.tool_calls:\n",
    "        news_list = []\n",
    "        id_list = []\n",
    "        for tool_call in fa_output.tool_calls:\n",
    "            tool = tools_by_name[tool_call[\"name\"]]\n",
    "            print(tool_call[\"args\"])\n",
    "            # Invoke the tool with the arguments from the tool call\n",
    "            news = tool.invoke(tool_call[\"args\"])\n",
    "\n",
    "            # display(Markdown(f\"**Yahoo Finance news**: {news}\"))\n",
    "\n",
    "            news_list.append(news)\n",
    "            id_list.append(tool_call[\"id\"])\n",
    "\n",
    "        # Message list with the retrieved documents for the base model\n",
    "        messages = [\n",
    "            SystemMessage(FINANCE_TOOL_PROMPT),\n",
    "            *state.messages,\n",
    "            fa_output,\n",
    "            *[\n",
    "                ToolMessage(news_str, tool_call_id=tool_call_id)\n",
    "                for (news_str, tool_call_id) in zip(news_list, id_list)\n",
    "            ],\n",
    "        ]\n",
    "\n",
    "        # Invoke the base model with the messages\n",
    "        fa_output = fa_model.invoke(messages)\n",
    "\n",
    "    # Update the state analyses with the financial analyst output content and go to the synthesizer node\n",
    "    return Command(\n",
    "        update={\"financial_analysis\": [fa_output.content]},\n",
    "        goto=\"synthesizer\",\n",
    "    )"
   ]
  },
  {
   "cell_type": "markdown",
   "metadata": {},
   "source": [
    "### Risk Analyst Agent (RAA)"
   ]
  },
  {
   "cell_type": "markdown",
   "metadata": {},
   "source": [
    "The RAA will give a financial advice based on risk analysis. It offer a way to reduce investment's risk:\n",
    "- Receive a financial investment question from the CIA agent.\n",
    "- Give a financial advice\n",
    "- Send it to the synthetizer"
   ]
  },
  {
   "cell_type": "code",
   "execution_count": null,
   "metadata": {},
   "outputs": [],
   "source": [
    "from langchain_core.messages import AIMessage"
   ]
  },
  {
   "cell_type": "code",
   "execution_count": null,
   "metadata": {},
   "outputs": [],
   "source": [
    "RISK_ANALYST_PROMPT = \"\"\"\n",
    "Evaluate the client's request strictly from a risk perspective.\n",
    "Provide cautions, identify potential risks, and suggest ways to mitigate them.\n",
    "Do not repeat or alter the Analyst's investment advice.\n",
    "\"\"\""
   ]
  },
  {
   "cell_type": "code",
   "execution_count": null,
   "metadata": {},
   "outputs": [],
   "source": [
    "# Define the risk analyst node and the next node options\n",
    "def risk_analyst_node(state: State) -> Command[Literal[\"synthesizer\"]]:\n",
    "    \"\"\"Given the user prompt perform risk analysis.\"\"\"\n",
    "    display(Markdown(\"**Performing risk analysis.**\"))\n",
    "\n",
    "    # Access the previous responses\n",
    "    finance_analysis = state.financial_analysis\n",
    "\n",
    "    # Combine the previous messages into a single string\n",
    "    complete_analyses = \"The financial advisor's analysis:\" + \"\\n\\n---\\n\\n\".join(\n",
    "        finance_analysis\n",
    "    )\n",
    "\n",
    "    # Message list for the risk analyst\n",
    "    messages = [\n",
    "        SystemMessage(RISK_ANALYST_PROMPT),\n",
    "        *state.messages,\n",
    "        AIMessage(complete_analyses),\n",
    "    ]\n",
    "\n",
    "    # Invoke the base model with the messages\n",
    "    risk_analyst_output = base_model.invoke(messages)\n",
    "\n",
    "    # Update the state messages with the risk analyst's output content and go to the synthesizer node\n",
    "    return Command(\n",
    "        update={\"risk_analysis\": [risk_analyst_output.content]},\n",
    "        goto=\"synthesizer\",\n",
    "    )"
   ]
  },
  {
   "cell_type": "markdown",
   "metadata": {},
   "source": [
    "### Synthesiser"
   ]
  },
  {
   "cell_type": "markdown",
   "metadata": {},
   "source": [
    "The Synthetiser is our final processing layer that:\n",
    "- Collects the financial analyst's investment strategy\n",
    "- Collects the risk advisor's investment \n",
    "- Creates a cohesive final report for the client"
   ]
  },
  {
   "cell_type": "code",
   "execution_count": null,
   "metadata": {},
   "outputs": [],
   "source": [
    "SYNTHESIZER_PROMPT = \"\"\"\n",
    "You are a Financial Advisor.\n",
    "Combine insights from both the Financial Analyst and Risk Advisor to generate clear, balanced investment advice.\n",
    "Summarize key findings, address relevant risks, and provide a coherent investment strategy.\n",
    "Conclude with a succinct and specific portfolio allocation tailored to the client's request.\n",
    "\"\"\""
   ]
  },
  {
   "cell_type": "code",
   "execution_count": null,
   "metadata": {},
   "outputs": [],
   "source": [
    "# Define the synthesizer node and the next node options\n",
    "def synthesizer_node(state: State) -> Command[Literal[END]]:\n",
    "    \"\"\"Synthesize full report from research analyses.\"\"\"\n",
    "    display(Markdown(\"**Synthesizing messages from the two analysts.**\"))\n",
    "\n",
    "    # Access the previous responses\n",
    "    finance_analysis = state.financial_analysis\n",
    "\n",
    "    risk_analysis = state.risk_analysis\n",
    "\n",
    "    # Combine the research analyses into a single string\n",
    "    financial_analysis_str = \"risk analysis: \" + \"\\n\\n---\\n\\n\".join(\n",
    "        [item.content for item in finance_analysis]\n",
    "    )\n",
    "    risk_analysis_str = \"risk analysis: \" + \"\\n\\n---\\n\\n\".join(\n",
    "        [item.content for item in risk_analysis]\n",
    "    )\n",
    "\n",
    "    # Message list for the RSA model\n",
    "    messages = [\n",
    "        SystemMessage(SYNTHESIZER_PROMPT),\n",
    "        AIMessage(financial_analysis_str),\n",
    "        AIMessage(risk_analysis_str),\n",
    "    ]\n",
    "\n",
    "    # Invoke the base model with the messages\n",
    "    synth_output = base_model.invoke(messages)\n",
    "\n",
    "    # Update the state messages with the RSA output content and end the workflow\n",
    "    return Command(\n",
    "        update={\"messages\": synth_output},\n",
    "        goto=END,\n",
    "    )"
   ]
  },
  {
   "cell_type": "markdown",
   "metadata": {},
   "source": [
    "## Building the Workflow Graph"
   ]
  },
  {
   "cell_type": "markdown",
   "metadata": {},
   "source": [
    "Now that our nodes and communication flow are defined, we can build the graph!"
   ]
  },
  {
   "cell_type": "code",
   "execution_count": null,
   "metadata": {},
   "outputs": [],
   "source": [
    "from langgraph.graph import StateGraph"
   ]
  },
  {
   "cell_type": "code",
   "execution_count": null,
   "metadata": {},
   "outputs": [],
   "source": [
    "# Create a state graph builder\n",
    "graph_builder = StateGraph(State)\n",
    "\n",
    "# Define the entry point\n",
    "graph_builder.set_entry_point(\"client_interface\")\n",
    "\n",
    "# Add the nodes\n",
    "graph_builder.add_node(\"client_interface\", client_interface_node)\n",
    "graph_builder.add_node(\"financial_analyst\", financial_analyst_node)\n",
    "graph_builder.add_node(\"risk_analyst\", risk_analyst_node)\n",
    "graph_builder.add_node(\"synthesizer\", synthesizer_node)\n",
    "\n",
    "# The edges are defined by the commands !\n",
    "\n",
    "# Compile the workflow\n",
    "app = graph_builder.compile()"
   ]
  },
  {
   "cell_type": "markdown",
   "metadata": {},
   "source": [
    "Let's visualize our Financial Analyst graph. Note that because the number of `\"worker\"` nodes is generated dynamically, it shows up as a single node in the image."
   ]
  },
  {
   "cell_type": "markdown",
   "metadata": {},
   "source": [
    "## Running the Workflow"
   ]
  },
  {
   "cell_type": "markdown",
   "metadata": {},
   "source": [
    "Now that our workflow is built, let's test it! Once again, we can run it with `.invoke()`."
   ]
  },
  {
   "cell_type": "code",
   "execution_count": null,
   "metadata": {},
   "outputs": [],
   "source": [
    "request = (\n",
    "    \"I'm 30 year old and have $10,000 saved. Which US stocks should I invest into?\"\n",
    ")\n",
    "\n",
    "# Invoke the workflow with the client request\n",
    "final_state = app.invoke({\"messages\": request})"
   ]
  },
  {
   "cell_type": "code",
   "execution_count": null,
   "metadata": {},
   "outputs": [],
   "source": [
    "Markdown(final_state[\"messages\"][-1].content)"
   ]
  },
  {
   "cell_type": "markdown",
   "metadata": {},
   "source": [
    "## Conclusion\n",
    "You've now learned how to build a sophisticated multi-agent system using LangGraph! This approach allows for:\n",
    "\n",
    "- More complex and nuanced analysis\n",
    "- Better division of responsibilities\n",
    "\n",
    "Feel free to experiment with different agent configurations and workflow patterns to suit your specific needs."
   ]
  }
 ],
 "metadata": {
  "kernelspec": {
   "display_name": ".venv",
   "language": "python",
   "name": "python3"
  },
  "language_info": {
   "codemirror_mode": {
    "name": "ipython",
    "version": 3
   },
   "file_extension": ".py",
   "mimetype": "text/x-python",
   "name": "python",
   "nbconvert_exporter": "python",
   "pygments_lexer": "ipython3",
   "version": "3.12.3"
  }
 },
 "nbformat": 4,
 "nbformat_minor": 2
}
