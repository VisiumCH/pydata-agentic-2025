{
 "cells": [
  {
   "cell_type": "markdown",
   "metadata": {},
   "source": [
    "# Introduction to LLMs and Agents"
   ]
  },
  {
   "cell_type": "markdown",
   "metadata": {},
   "source": [
    "Welcome to our workshop! In this session, we'll explore how to build AI-powered applications using **LangChain**, a popular framework for developing applications with Large Language Models (LLMs). We'll start with a simple chatbot and then enhance it with a multi-agent framework."
   ]
  },
  {
   "cell_type": "markdown",
   "metadata": {},
   "source": [
    "**DISCLAIMER** Do not use the agents from this workshop for any real financial decisions, this is a fictive scenario with the objective of discovering llm agents."
   ]
  },
  {
   "cell_type": "markdown",
   "metadata": {},
   "source": [
    "## Setting Up Our Environment"
   ]
  },
  {
   "cell_type": "markdown",
   "metadata": {},
   "source": [
    "First, we need to set up our environment. We'll use OpenAI's models, so we need an API key. You can define your `OPENAI_API_KEY` in the `.env` file.\n",
    "\n",
    "The code retrieves the key and sets some global configurations:\n",
    "- `LLM_MODEL`: The specific model we'll use\n",
    "- `LLM_TEMPERATURE`: Controls randomness in responses (0 means very deterministic)"
   ]
  },
  {
   "cell_type": "code",
   "execution_count": null,
   "metadata": {},
   "outputs": [],
   "source": [
    "import os\n",
    "\n",
    "if not os.environ.get(\"OPENAI_API_KEY\"):\n",
    "    raise ValueError(\"Please set OPENAI_API_KEY environment variable\")\n",
    "\n",
    "LLM_MODEL = ...\n",
    "LLM_TEMPERATURE = ..."
   ]
  },
  {
   "cell_type": "markdown",
   "metadata": {},
   "source": [
    "## Building a Simple ChatBot"
   ]
  },
  {
   "cell_type": "markdown",
   "metadata": {},
   "source": [
    "Let's start with creating a basic chatbot using **LangChain**. We'll use:\n",
    "- `ChatOpenAI`: The interface to OpenAI's chat models\n",
    "- `SystemMessage`: Defines the bot's behavior and role\n",
    "- `HumanMessage`: Represents user input\n",
    "\n",
    "Our chatbot will act as a Financial Analyst. We'll create it by:\n",
    "1. Instantiating the model\n",
    "2. Defining a system prompt that sets the bot's role\n",
    "3. Sending a user query and getting a response with `.invoke()`\n",
    "\n",
    "This demonstrates the basic pattern of LLM interactions: prompt → response."
   ]
  },
  {
   "cell_type": "code",
   "execution_count": null,
   "metadata": {},
   "outputs": [],
   "source": [
    "from IPython.display import Markdown\n",
    "from langchain_core.messages import HumanMessage, SystemMessage\n",
    "from langchain_openai import ChatOpenAI"
   ]
  },
  {
   "cell_type": "code",
   "execution_count": null,
   "metadata": {},
   "outputs": [],
   "source": [
    "# Create a ChatOpenAI instance with the LLM model and temperature\n",
    "base_model = ChatOpenAI(model=LLM_MODEL, temperature=LLM_TEMPERATURE)"
   ]
  },
  {
   "cell_type": "code",
   "execution_count": null,
   "metadata": {},
   "outputs": [],
   "source": [
    "BASE_PROMPT = \"\"\"\n",
    "You are a Financial Analyst. The client will ask you an investment question.\n",
    "Do your best to help the client with their request based on your expertise.\n",
    "Conclude with a succinct and specific portfolio allocation tailored to the client's request.\n",
    "\"\"\""
   ]
  },
  {
   "cell_type": "code",
   "execution_count": null,
   "metadata": {},
   "outputs": [],
   "source": [
    "# Request from the client\n",
    "request = (\n",
    "    \"I'm 30 year old and have $10,000 saved. Which US stocks should I invest into?\"\n",
    ")\n",
    "\n",
    "# Message list for the base model\n",
    "messages = [\n",
    "    ...,\n",
    "    ...,\n",
    "]\n",
    "\n",
    "# Invoke the model with the messages\n",
    "response = base_model.invoke(messages)"
   ]
  },
  {
   "cell_type": "code",
   "execution_count": null,
   "metadata": {},
   "outputs": [],
   "source": [
    "Markdown(response.content)"
   ]
  }
 ],
 "metadata": {
  "kernelspec": {
   "display_name": ".venv",
   "language": "python",
   "name": "python3"
  },
  "language_info": {
   "codemirror_mode": {
    "name": "ipython",
    "version": 3
   },
   "file_extension": ".py",
   "mimetype": "text/x-python",
   "name": "python",
   "nbconvert_exporter": "python",
   "pygments_lexer": "ipython3",
   "version": "3.12.3"
  }
 },
 "nbformat": 4,
 "nbformat_minor": 2
}
